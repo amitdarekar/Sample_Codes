{
 "cells": [
  {
   "cell_type": "code",
   "execution_count": 1,
   "metadata": {
    "collapsed": true
   },
   "outputs": [],
   "source": [
    "# Setting up Notebook\n",
    "% matplotlib inline\n",
    "import numpy as np\n",
    "import pandas as pd\n",
    "import matplotlib as mpl\n",
    "import matplotlib.pyplot as plt\n",
    "import seaborn as sns\n",
    "from nose.tools import assert_equal, assert_true, assert_almost_equal, assert_is_instance, assert_is_not\n",
    "from sklearn.model_selection import train_test_split, StratifiedKFold, learning_curve\n",
    "from sklearn.linear_model import LinearRegression\n",
    "from sklearn.datasets import load_diabetes\n",
    "from sklearn.model_selection import cross_val_score\n",
    "\n",
    "# We do this to ignore several specific warnings\n",
    "import warnings\n",
    "warnings.filterwarnings(\"ignore\")"
   ]
  },
  {
   "cell_type": "code",
   "execution_count": 2,
   "metadata": {
    "collapsed": true
   },
   "outputs": [],
   "source": [
    "## HELPER CODE TO GENERATE LEARNING CURVES\n",
    "def get_range(trn_szs, trn_scr, tst_scr):\n",
    "    '''\n",
    "    Returns the ranges of the training and testing data needed for plotting a learn curve\n",
    "    \n",
    "    Parameters\n",
    "    ----------\n",
    "    trn_szs: A numpy ndarray\n",
    "    trn_scr: A numpy ndarray\n",
    "    tst_scr: A numpy ndarray\n",
    "    \n",
    "    Returns\n",
    "    -------\n",
    "    A 6-tuple of numpy.ndarrays of trn_scr_mu, trn_high, trn_low, trn_scr_mu, tst_high, tst_low\n",
    "    '''\n",
    "        \n",
    "    trn_scr_mu = np.mean(trn_scr, axis=1)\n",
    "    trn_scr_sig = np.std(trn_scr, axis=1)\n",
    "\n",
    "    trn_high = np.array(trn_scr_mu) + np.array(trn_scr_sig)\n",
    "    trn_low = np.array(trn_scr_mu) - np.array(trn_scr_sig)\n",
    "\n",
    "    tst_scr_mu = np.mean(tst_scr, axis=1)\n",
    "    tst_scr_sig = np.std(tst_scr, axis=1)\n",
    "\n",
    "    tst_high = np.array(tst_scr_mu) + np.array(tst_scr_sig)\n",
    "    tst_low = np.array(tst_scr_mu) - np.array(tst_scr_sig)\n",
    "        \n",
    "    return(trn_scr_mu, trn_high, trn_low, tst_scr_mu, tst_high, tst_low)\n",
    "\n",
    "\n",
    "def lv_plot(ttle, x, y1, y1h, y1l, y2, y2h, y2l, xlbl, ylbl, ylim=None):\n",
    "    '''\n",
    "    Returns a matplotlib.Axes instance that plots the learning curve\n",
    "    \n",
    "    Parameters\n",
    "    ----------\n",
    "    ttle: string\n",
    "    x: A numpy ndarray\n",
    "    y1: A numpy ndarray\n",
    "    y1h: A numpy ndarray\n",
    "    y1l: A numpy ndarray\n",
    "    y2: A numpy ndarray\n",
    "    y2h: A numpy ndarray\n",
    "    y2l: A numpy ndarray\n",
    "    xlbl: string\n",
    "    ylbl: string\n",
    "    ylim: tuple of floats\n",
    "    \n",
    "    \n",
    "    Returns\n",
    "    -------\n",
    "    ax: A matplotlib.Axes instance.\n",
    "    '''\n",
    "        \n",
    "    # Plot the results\n",
    "    fig, ax = plt.subplots(figsize=(10,8))\n",
    "\n",
    "    trn_color = color=sns.xkcd_rgb[\"denim blue\"]\n",
    "    ax.plot(x, y1, label=\"Training Score\", marker='d', lw=3, color=trn_color)\n",
    "    ax.fill_between(x, y1h, y1l, alpha=0.25, color=trn_color)\n",
    "\n",
    "    tst_color = color=sns.xkcd_rgb[\"medium green\"]\n",
    "    ax.plot(x, y2, label=\"CV Score\", marker='d', lw=3, color=tst_color)\n",
    "    ax.fill_between(x, y2h, y2l, alpha=0.25, color=tst_color)\n",
    "\n",
    "    # Decorate plot\n",
    "    ax.set(title=ttle, xlabel=xlbl, ylabel=ylbl)\n",
    "\n",
    "    if ylim is not None:\n",
    "        ax.set_ylim(*ylim)\n",
    "        \n",
    "    ax.legend(loc='best', borderaxespad=1.5)\n",
    "    sns.despine(offset=10, trim=True)\n",
    "    \n",
    "    return ax"
   ]
  },
  {
   "cell_type": "markdown",
   "metadata": {},
   "source": [
    "### Importing dataset - Diabetes"
   ]
  },
  {
   "cell_type": "code",
   "execution_count": 3,
   "metadata": {},
   "outputs": [
    {
     "data": {
      "text/html": [
       "<div>\n",
       "<style scoped>\n",
       "    .dataframe tbody tr th:only-of-type {\n",
       "        vertical-align: middle;\n",
       "    }\n",
       "\n",
       "    .dataframe tbody tr th {\n",
       "        vertical-align: top;\n",
       "    }\n",
       "\n",
       "    .dataframe thead th {\n",
       "        text-align: right;\n",
       "    }\n",
       "</style>\n",
       "<table border=\"1\" class=\"dataframe\">\n",
       "  <thead>\n",
       "    <tr style=\"text-align: right;\">\n",
       "      <th></th>\n",
       "      <th>age</th>\n",
       "      <th>sex</th>\n",
       "      <th>bmi</th>\n",
       "      <th>map</th>\n",
       "      <th>tc</th>\n",
       "      <th>ldl</th>\n",
       "      <th>hdl</th>\n",
       "      <th>tch</th>\n",
       "      <th>ltg</th>\n",
       "      <th>glu</th>\n",
       "    </tr>\n",
       "  </thead>\n",
       "  <tbody>\n",
       "    <tr>\n",
       "      <th>0</th>\n",
       "      <td>0.038076</td>\n",
       "      <td>0.050680</td>\n",
       "      <td>0.061696</td>\n",
       "      <td>0.021872</td>\n",
       "      <td>-0.044223</td>\n",
       "      <td>-0.034821</td>\n",
       "      <td>-0.043401</td>\n",
       "      <td>-0.002592</td>\n",
       "      <td>0.019908</td>\n",
       "      <td>-0.017646</td>\n",
       "    </tr>\n",
       "    <tr>\n",
       "      <th>1</th>\n",
       "      <td>-0.001882</td>\n",
       "      <td>-0.044642</td>\n",
       "      <td>-0.051474</td>\n",
       "      <td>-0.026328</td>\n",
       "      <td>-0.008449</td>\n",
       "      <td>-0.019163</td>\n",
       "      <td>0.074412</td>\n",
       "      <td>-0.039493</td>\n",
       "      <td>-0.068330</td>\n",
       "      <td>-0.092204</td>\n",
       "    </tr>\n",
       "    <tr>\n",
       "      <th>2</th>\n",
       "      <td>0.085299</td>\n",
       "      <td>0.050680</td>\n",
       "      <td>0.044451</td>\n",
       "      <td>-0.005671</td>\n",
       "      <td>-0.045599</td>\n",
       "      <td>-0.034194</td>\n",
       "      <td>-0.032356</td>\n",
       "      <td>-0.002592</td>\n",
       "      <td>0.002864</td>\n",
       "      <td>-0.025930</td>\n",
       "    </tr>\n",
       "    <tr>\n",
       "      <th>3</th>\n",
       "      <td>-0.089063</td>\n",
       "      <td>-0.044642</td>\n",
       "      <td>-0.011595</td>\n",
       "      <td>-0.036656</td>\n",
       "      <td>0.012191</td>\n",
       "      <td>0.024991</td>\n",
       "      <td>-0.036038</td>\n",
       "      <td>0.034309</td>\n",
       "      <td>0.022692</td>\n",
       "      <td>-0.009362</td>\n",
       "    </tr>\n",
       "    <tr>\n",
       "      <th>4</th>\n",
       "      <td>0.005383</td>\n",
       "      <td>-0.044642</td>\n",
       "      <td>-0.036385</td>\n",
       "      <td>0.021872</td>\n",
       "      <td>0.003935</td>\n",
       "      <td>0.015596</td>\n",
       "      <td>0.008142</td>\n",
       "      <td>-0.002592</td>\n",
       "      <td>-0.031991</td>\n",
       "      <td>-0.046641</td>\n",
       "    </tr>\n",
       "  </tbody>\n",
       "</table>\n",
       "</div>"
      ],
      "text/plain": [
       "        age       sex       bmi       map        tc       ldl       hdl  \\\n",
       "0  0.038076  0.050680  0.061696  0.021872 -0.044223 -0.034821 -0.043401   \n",
       "1 -0.001882 -0.044642 -0.051474 -0.026328 -0.008449 -0.019163  0.074412   \n",
       "2  0.085299  0.050680  0.044451 -0.005671 -0.045599 -0.034194 -0.032356   \n",
       "3 -0.089063 -0.044642 -0.011595 -0.036656  0.012191  0.024991 -0.036038   \n",
       "4  0.005383 -0.044642 -0.036385  0.021872  0.003935  0.015596  0.008142   \n",
       "\n",
       "        tch       ltg       glu  \n",
       "0 -0.002592  0.019908 -0.017646  \n",
       "1 -0.039493 -0.068330 -0.092204  \n",
       "2 -0.002592  0.002864 -0.025930  \n",
       "3  0.034309  0.022692 -0.009362  \n",
       "4 -0.002592 -0.031991 -0.046641  "
      ]
     },
     "execution_count": 3,
     "metadata": {},
     "output_type": "execute_result"
    }
   ],
   "source": [
    "columns = \"age sex bmi map tc ldl hdl tch ltg glu\".split()\n",
    "# Load in the dataset as a Pandas DataFrame\n",
    "data = load_diabetes()\n",
    "data_df = pd.DataFrame(data.data, columns=columns)\n",
    "# Preview the first few lines\n",
    "data_df.head()"
   ]
  },
  {
   "cell_type": "code",
   "execution_count": 4,
   "metadata": {
    "collapsed": true
   },
   "outputs": [],
   "source": [
    "'''\n",
    "Separate the dataset into training and testing data using the `train_test_split` function.\n",
    "'''\n",
    "size = 0.3\n",
    "\n",
    "data_df_clean = data_df[data_df.columns[:-1]]\n",
    "labels = data.target\n",
    "# YOUR CODE HERE\n",
    "\n",
    "d_train, d_test, l_train, l_test=\\\n",
    "train_test_split(data_df_clean, labels, test_size = size, random_state = 23)"
   ]
  },
  {
   "cell_type": "markdown",
   "metadata": {},
   "source": [
    "## Create Model and Score using K-fold"
   ]
  },
  {
   "cell_type": "code",
   "execution_count": 5,
   "metadata": {
    "collapsed": true
   },
   "outputs": [],
   "source": [
    "def score_kfold(cv, data, labels):\n",
    "    '''\n",
    "    Creates a LinearRegression model and scores it using\n",
    "    K-fold cross-validation\n",
    "    \n",
    "    Parameters\n",
    "    ----------\n",
    "    cv: An integer.\n",
    "    data: A numpy ndarray\n",
    "    labels: A numpy ndarray\n",
    "    \n",
    "    Returns\n",
    "    -------\n",
    "    A 2-tuple of the LinearRegression object and the cross-validation scores.\n",
    "    '''\n",
    "        \n",
    "    # Create Linear Regression Model\n",
    "    RGR = LinearRegression()\n",
    "    scores = cross_val_score(RGR, data, labels, cv= cv)\n",
    "        \n",
    "    return (RGR, scores)    "
   ]
  },
  {
   "cell_type": "code",
   "execution_count": 6,
   "metadata": {
    "collapsed": true
   },
   "outputs": [],
   "source": [
    "# Create a model with k-fold=3\n",
    "\n",
    "model = score_kfold(3, data.data, labels)[0]"
   ]
  },
  {
   "cell_type": "markdown",
   "metadata": {},
   "source": [
    "## Score using StratifiedKFold"
   ]
  },
  {
   "cell_type": "code",
   "execution_count": 7,
   "metadata": {
    "collapsed": true
   },
   "outputs": [],
   "source": [
    "def score_stratified_kfold(n_splits, data, labels):\n",
    "    '''\n",
    "    Score our previous model using the StratifiedKFold strategy\n",
    "    \n",
    "    Parameters\n",
    "    ----------\n",
    "    n_splits: An integer\n",
    "    data: A numpy ndarray\n",
    "    labels: A numpy ndarray\n",
    "    \n",
    "    Returns\n",
    "    -------\n",
    "    2-tuple of the StratifiedKFold object and the numpy array of the scores\n",
    "    '''\n",
    "    \n",
    "    RGR = LinearRegression()\n",
    "    \n",
    "    skf = StratifiedKFold(n_splits= n_splits, random_state=23)\n",
    "    \n",
    "    scores = cross_val_score(RGR, data, labels, cv= skf)\n",
    "    \n",
    "    return (skf, scores)    "
   ]
  },
  {
   "cell_type": "markdown",
   "metadata": {},
   "source": [
    "### Generate Learning Curve"
   ]
  },
  {
   "cell_type": "code",
   "execution_count": 8,
   "metadata": {
    "collapsed": true
   },
   "outputs": [],
   "source": [
    "def generate_learning_curve(data, labels):\n",
    "    '''\n",
    "    Generate a Learning Curve for the LinearRegression model from above.\n",
    "    \n",
    "    Parameters\n",
    "    ----------\n",
    "    data: A numpy ndarray\n",
    "    labels: A numpy ndarray\n",
    "    \n",
    "    Returns\n",
    "    -------\n",
    "    ax: A matplotlib.Axes instance.\n",
    "    '''\n",
    "        \n",
    "    skf = StratifiedKFold(n_splits= 5, random_state=23)\n",
    "    \n",
    "    RGR = LinearRegression()\n",
    "    \n",
    "    trn_sz=np.linspace(0.1, 1, 30)\n",
    "        \n",
    "    # Generate learning curve\n",
    "    trn_szs, trn_scr, tst_scr = \\\n",
    "        learning_curve(RGR, data, labels, cv= skf, train_sizes= trn_sz)\n",
    "    \n",
    "    # Returns the ranges of the training and testing data needed for plotting a learn curve\n",
    "    trn_scr_mu, trn_high, trn_low, tst_scr_mu,\\\n",
    "        tst_high, tst_low = get_range(trn_szs, trn_scr, tst_scr)\n",
    "    \n",
    "    # Returns a matplotlib.Axes instance that plots the learning curve\n",
    "    ttle = 'Learning Curve with Linear Regression'\n",
    "    x = trn_szs\n",
    "    y1 = trn_scr_mu\n",
    "    y1h = trn_high\n",
    "    y1l = trn_low\n",
    "    y2 = tst_scr_mu\n",
    "    y2h = tst_high\n",
    "    y2l = tst_low\n",
    "    xlbl = 'Training Size'\n",
    "    ylbl = 'Score'\n",
    "    \n",
    "    ax = lv_plot(ttle, x, y1, y1h, y1l, y2, y2h, y2l, xlbl, ylbl, ylim= (0.0, 0.7))\n",
    "    \n",
    "    return ax    "
   ]
  },
  {
   "cell_type": "code",
   "execution_count": 9,
   "metadata": {},
   "outputs": [
    {
     "data": {
      "image/png": "[encoded data removed]",
      "text/plain": [
       "<matplotlib.figure.Figure at 0x1dc79756f98>"
      ]
     },
     "metadata": {},
     "output_type": "display_data"
    }
   ],
   "source": [
    "ax = generate_learning_curve(data.data, labels)"
   ]
  }
 ],
 "metadata": {
  "kernelspec": {
   "display_name": "Python 3",
   "language": "python",
   "name": "python3"
  },
  "language_info": {
   "codemirror_mode": {
    "name": "ipython",
    "version": 3
   },
   "file_extension": ".py",
   "mimetype": "text/x-python",
   "name": "python",
   "nbconvert_exporter": "python",
   "pygments_lexer": "ipython3",
   "version": "3.6.3"
  }
 },
 "nbformat": 4,
 "nbformat_minor": 2
}
